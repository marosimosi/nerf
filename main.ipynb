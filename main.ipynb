{
  "nbformat": 4,
  "nbformat_minor": 0,
  "metadata": {
    "colab": {
      "provenance": [],
      "gpuType": "T4",
      "authorship_tag": "ABX9TyNhO7Fsa6ut28RQqEKQIGIQ",
      "include_colab_link": true
    },
    "kernelspec": {
      "name": "python3",
      "display_name": "Python 3"
    },
    "language_info": {
      "name": "python"
    },
    "accelerator": "GPU"
  },
  "cells": [
    {
      "cell_type": "markdown",
      "metadata": {
        "id": "view-in-github",
        "colab_type": "text"
      },
      "source": [
        "<a href=\"https://colab.research.google.com/github/marosimosi/nerf/blob/main/main.ipynb\" target=\"_parent\"><img src=\"https://colab.research.google.com/assets/colab-badge.svg\" alt=\"Open In Colab\"/></a>"
      ]
    },
    {
      "cell_type": "markdown",
      "source": [
        "# Imports"
      ],
      "metadata": {
        "id": "qYRAIOgJxbhh"
      }
    },
    {
      "cell_type": "code",
      "execution_count": 7,
      "metadata": {
        "id": "9nPgMwfinGlb"
      },
      "outputs": [],
      "source": [
        "import numpy as np\n",
        "import torch\n",
        "from torch import nn\n",
        "import matplotlib.pyplot as plt\n",
        "from mpl_toolkits.mplot3d import axes3d\n",
        "import os\n",
        "import math"
      ]
    },
    {
      "cell_type": "markdown",
      "source": [
        "# Device"
      ],
      "metadata": {
        "id": "dgVeovX7yLVq"
      }
    },
    {
      "cell_type": "code",
      "source": [
        "if torch.cuda.is_available():\n",
        "  device = torch.device('cuda')\n",
        "else:\n",
        "  device = torch.device('cpu')\n",
        "print('Device:', device)"
      ],
      "metadata": {
        "id": "qaFpNIj_yHcQ",
        "outputId": "4ba9478a-766a-43f4-dd17-1bf0761d61c3",
        "colab": {
          "base_uri": "https://localhost:8080/"
        }
      },
      "execution_count": 2,
      "outputs": [
        {
          "output_type": "stream",
          "name": "stdout",
          "text": [
            "Device: cuda\n"
          ]
        }
      ]
    },
    {
      "cell_type": "markdown",
      "source": [
        "# Load Dataset"
      ],
      "metadata": {
        "id": "S4bDO05VyUBq"
      }
    },
    {
      "cell_type": "code",
      "source": [
        "if not os.path.exists('tiny_nerf_data.npz'):\n",
        "  !wget http://cseweb.ucsd.edu/~viscomp/projects/LF/papers/ECCV20/nerf/tiny_nerf_data.npz\n",
        "\n",
        "dataset = np.load('tiny_nerf_data.npz')\n",
        "\n",
        "images = dataset['images']\n",
        "poses = dataset['poses']\n",
        "focal = dataset['focal']"
      ],
      "metadata": {
        "id": "MLcUx0wsowlN",
        "outputId": "f2442715-ac32-447c-b044-3c1c9624db3d",
        "colab": {
          "base_uri": "https://localhost:8080/"
        }
      },
      "execution_count": 3,
      "outputs": [
        {
          "output_type": "stream",
          "name": "stdout",
          "text": [
            "--2024-11-14 23:28:43--  http://cseweb.ucsd.edu/~viscomp/projects/LF/papers/ECCV20/nerf/tiny_nerf_data.npz\n",
            "Resolving cseweb.ucsd.edu (cseweb.ucsd.edu)... 132.239.8.30\n",
            "Connecting to cseweb.ucsd.edu (cseweb.ucsd.edu)|132.239.8.30|:80... connected.\n",
            "HTTP request sent, awaiting response... 302 Found\n",
            "Location: https://cseweb.ucsd.edu//~viscomp/projects/LF/papers/ECCV20/nerf/tiny_nerf_data.npz [following]\n",
            "--2024-11-14 23:28:43--  https://cseweb.ucsd.edu//~viscomp/projects/LF/papers/ECCV20/nerf/tiny_nerf_data.npz\n",
            "Connecting to cseweb.ucsd.edu (cseweb.ucsd.edu)|132.239.8.30|:443... connected.\n",
            "HTTP request sent, awaiting response... 200 OK\n",
            "Length: 12727482 (12M)\n",
            "Saving to: ‘tiny_nerf_data.npz’\n",
            "\n",
            "tiny_nerf_data.npz  100%[===================>]  12.14M  36.9MB/s    in 0.3s    \n",
            "\n",
            "2024-11-14 23:28:43 (36.9 MB/s) - ‘tiny_nerf_data.npz’ saved [12727482/12727482]\n",
            "\n"
          ]
        }
      ]
    },
    {
      "cell_type": "markdown",
      "source": [],
      "metadata": {
        "id": "GkFOU1Xuyn0J"
      }
    },
    {
      "cell_type": "code",
      "source": [
        "print(f'Images shape: {images.shape}')\n",
        "print(f'Poses shape: {poses.shape}')\n",
        "print(f'Focal length: {focal}')"
      ],
      "metadata": {
        "id": "VXJhDEzg7LHy",
        "outputId": "94eafcb6-ab9d-4c08-ef81-2116829bd28c",
        "colab": {
          "base_uri": "https://localhost:8080/"
        }
      },
      "execution_count": 4,
      "outputs": [
        {
          "output_type": "stream",
          "name": "stdout",
          "text": [
            "Images shape: (106, 100, 100, 3)\n",
            "Poses shape: (106, 4, 4)\n",
            "Focal length: 138.88887889922103\n"
          ]
        }
      ]
    },
    {
      "cell_type": "markdown",
      "source": [
        "Το dataset περιέχει 106 εικόνες, με διαστάσεις που αντιστοιχούν στο πλάτος, το ύψος και το RGB.\n",
        "\n",
        "Κάθε pose είναι ένας 4x4 transformation matrix. Αποτελείται από έναν 3x3 rotation matrix, έναν 3x1 translation vector στην τέταρτη στήλη, και την τελευταία γραμμή [0,0,0,1] για ομογενείς συντεταγμένες."
      ],
      "metadata": {
        "id": "tdwZ2gIj7SvE"
      }
    },
    {
      "cell_type": "code",
      "source": [
        "translations = poses[:, :3, 3]\n",
        "distances = np.linalg.norm(translations, axis=1) #distances from [0,0,0]\n",
        "\n",
        "# Set near and far based on min and max distances, with a margin\n",
        "near = math.floor( max(0.1, distances.min() - 1) )\n",
        "far = math.ceil( distances.max() + 1 )\n",
        "\n",
        "print(f\"Calculated near plane: {near}\")\n",
        "print(f\"Calculated far plane: {far}\")"
      ],
      "metadata": {
        "id": "rTEbDsHu7vl_",
        "outputId": "503c36d2-164c-49a5-bbf1-0d4f8c145248",
        "colab": {
          "base_uri": "https://localhost:8080/"
        }
      },
      "execution_count": 10,
      "outputs": [
        {
          "output_type": "stream",
          "name": "stdout",
          "text": [
            "Calculated near plane: 3\n",
            "Calculated far plane: 6\n"
          ]
        }
      ]
    }
  ]
}